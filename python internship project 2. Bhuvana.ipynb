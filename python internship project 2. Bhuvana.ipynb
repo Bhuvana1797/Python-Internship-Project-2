{
 "cells": [
  {
   "cell_type": "code",
   "execution_count": 1,
   "id": "3c93882f",
   "metadata": {},
   "outputs": [
    {
     "data": {
      "application/vnd.jupyter.widget-view+json": {
       "model_id": "490e2513c1024b7893ea9dd127a6a397",
       "version_major": 2,
       "version_minor": 0
      },
      "text/plain": [
       "Text(value='', placeholder='Enter task description')"
      ]
     },
     "metadata": {},
     "output_type": "display_data"
    },
    {
     "data": {
      "application/vnd.jupyter.widget-view+json": {
       "model_id": "f81f1621c8284bc18c126296b262d2bf",
       "version_major": 2,
       "version_minor": 0
      },
      "text/plain": [
       "Button(description='Add Task', style=ButtonStyle())"
      ]
     },
     "metadata": {},
     "output_type": "display_data"
    },
    {
     "data": {
      "application/vnd.jupyter.widget-view+json": {
       "model_id": "45db7fb380494800894921baf4b47f80",
       "version_major": 2,
       "version_minor": 0
      },
      "text/plain": [
       "Text(value='', placeholder='Enter task number to edit')"
      ]
     },
     "metadata": {},
     "output_type": "display_data"
    },
    {
     "data": {
      "application/vnd.jupyter.widget-view+json": {
       "model_id": "bdad6cd03fa44a08a1b535ed9f96425c",
       "version_major": 2,
       "version_minor": 0
      },
      "text/plain": [
       "Text(value='', placeholder='Enter new description')"
      ]
     },
     "metadata": {},
     "output_type": "display_data"
    },
    {
     "data": {
      "application/vnd.jupyter.widget-view+json": {
       "model_id": "a16af96d99f44981a2df1973bd05b89c",
       "version_major": 2,
       "version_minor": 0
      },
      "text/plain": [
       "Button(description='Edit Task', style=ButtonStyle())"
      ]
     },
     "metadata": {},
     "output_type": "display_data"
    },
    {
     "data": {
      "application/vnd.jupyter.widget-view+json": {
       "model_id": "99398a9996284a16b7320b63146067fb",
       "version_major": 2,
       "version_minor": 0
      },
      "text/plain": [
       "Text(value='', placeholder='Enter task number to delete')"
      ]
     },
     "metadata": {},
     "output_type": "display_data"
    },
    {
     "data": {
      "application/vnd.jupyter.widget-view+json": {
       "model_id": "3fd5fe71bd8849578f18bb3d52d5592a",
       "version_major": 2,
       "version_minor": 0
      },
      "text/plain": [
       "Button(description='Delete Task', style=ButtonStyle())"
      ]
     },
     "metadata": {},
     "output_type": "display_data"
    },
    {
     "data": {
      "application/vnd.jupyter.widget-view+json": {
       "model_id": "e2354086028d400ca9f8f4ae737b544e",
       "version_major": 2,
       "version_minor": 0
      },
      "text/plain": [
       "Text(value='', placeholder='Enter task number to mark complete')"
      ]
     },
     "metadata": {},
     "output_type": "display_data"
    },
    {
     "data": {
      "application/vnd.jupyter.widget-view+json": {
       "model_id": "c8e78593e25f4b6792b96c07f790c2de",
       "version_major": 2,
       "version_minor": 0
      },
      "text/plain": [
       "Button(description='Mark Complete', style=ButtonStyle())"
      ]
     },
     "metadata": {},
     "output_type": "display_data"
    },
    {
     "data": {
      "application/vnd.jupyter.widget-view+json": {
       "model_id": "a46c5040d0984b1b8988ecaa29cc90c0",
       "version_major": 2,
       "version_minor": 0
      },
      "text/plain": [
       "Output()"
      ]
     },
     "metadata": {},
     "output_type": "display_data"
    },
    {
     "name": "stdout",
     "output_type": "stream",
     "text": [
      "1. data - Incomplete\n",
      "2. cloud - Complete\n",
      "3. Data science - Incomplete\n",
      "4. machine learning - Incomplete\n",
      "5. big data - Incomplete\n",
      "Deleting task with ID: 2\n",
      "1. data - Incomplete\n",
      "2. cloud - Complete\n",
      "3. machine learning - Incomplete\n",
      "4. big data - Incomplete\n"
     ]
    }
   ],
   "source": [
    "import json\n",
    "import os\n",
    "from IPython.display import display\n",
    "import ipywidgets as widgets\n",
    "\n",
    "TASK_FILE = 'tasks.json'\n",
    "\n",
    "def load_tasks():\n",
    "    \"\"\"Load tasks from the file.\"\"\"\n",
    "    if os.path.exists(TASK_FILE):\n",
    "        with open(TASK_FILE, 'r') as file:\n",
    "            return json.load(file)\n",
    "    return []\n",
    "\n",
    "def save_tasks(tasks):\n",
    "    \"\"\"Save tasks to the file.\"\"\"\n",
    "    with open(TASK_FILE, 'w') as file:\n",
    "        json.dump(tasks, file, indent=4)\n",
    "\n",
    "def display_tasks(tasks):\n",
    "    \"\"\"Display the current list of tasks.\"\"\"\n",
    "    output.clear_output()\n",
    "    if not tasks:\n",
    "        print(\"No tasks found.\")\n",
    "    else:\n",
    "        for idx, task in enumerate(tasks, 1):\n",
    "            status = 'Complete' if task['complete'] else 'Incomplete'\n",
    "            print(f\"{idx}. {task['description']} - {status}\")\n",
    "\n",
    "def add_task(description):\n",
    "    \"\"\"Add a new task.\"\"\"\n",
    "    if description:\n",
    "        tasks.append({'description': description, 'complete': False})\n",
    "        save_tasks(tasks)\n",
    "        display_tasks(tasks)\n",
    "    else:\n",
    "        print(\"Task description cannot be empty!\")\n",
    "\n",
    "def edit_task(task_id, new_description):\n",
    "    \"\"\"Edit an existing task.\"\"\"\n",
    "    try:\n",
    "        task_id = int(task_id) - 1\n",
    "        print(f\"Editing task with ID: {task_id}\")  # Debugging line\n",
    "        if 0 <= task_id < len(tasks):\n",
    "            if new_description:\n",
    "                tasks[task_id]['description'] = new_description\n",
    "                save_tasks(tasks)\n",
    "                display_tasks(tasks)\n",
    "            else:\n",
    "                print(\"New description cannot be empty!\")\n",
    "        else:\n",
    "            print(\"Invalid task number. Please ensure the task number is correct.\")\n",
    "    except ValueError:\n",
    "        print(\"Invalid input. Please enter a number.\")\n",
    "\n",
    "def delete_task(task_id):\n",
    "    \"\"\"Delete a task.\"\"\"\n",
    "    try:\n",
    "        task_id = int(task_id) - 1\n",
    "        print(f\"Deleting task with ID: {task_id}\")  # Debugging line\n",
    "        if 0 <= task_id < len(tasks):\n",
    "            tasks.pop(task_id)\n",
    "            save_tasks(tasks)\n",
    "            display_tasks(tasks)\n",
    "        else:\n",
    "            print(\"Invalid task number. Please ensure the task number is correct.\")\n",
    "    except ValueError:\n",
    "        print(\"Invalid input. Please enter a number.\")\n",
    "\n",
    "def mark_task_complete(task_id):\n",
    "    \"\"\"Mark a task as complete.\"\"\"\n",
    "    try:\n",
    "        task_id = int(task_id) - 1\n",
    "        print(f\"Marking task as complete with ID: {task_id}\")  # Debugging line\n",
    "        if 0 <= task_id < len(tasks):\n",
    "            tasks[task_id]['complete'] = True\n",
    "            save_tasks(tasks)\n",
    "            display_tasks(tasks)\n",
    "        else:\n",
    "            print(\"Invalid task number. Please ensure the task number is correct.\")\n",
    "    except ValueError:\n",
    "        print(\"Invalid input. Please enter a number.\")\n",
    "\n",
    "# Load initial tasks\n",
    "tasks = load_tasks()\n",
    "\n",
    "# Create widgets for user interaction\n",
    "description_text = widgets.Text(placeholder='Enter task description')\n",
    "add_button = widgets.Button(description=\"Add Task\")\n",
    "\n",
    "edit_task_id = widgets.Text(placeholder='Enter task number to edit')\n",
    "new_description = widgets.Text(placeholder='Enter new description')\n",
    "edit_button = widgets.Button(description=\"Edit Task\")\n",
    "\n",
    "delete_task_id = widgets.Text(placeholder='Enter task number to delete')\n",
    "delete_button = widgets.Button(description=\"Delete Task\")\n",
    "\n",
    "complete_task_id = widgets.Text(placeholder='Enter task number to mark complete')\n",
    "complete_button = widgets.Button(description=\"Mark Complete\")\n",
    "\n",
    "# Output area for displaying tasks and messages\n",
    "output = widgets.Output()\n",
    "\n",
    "def on_add_button_clicked(b):\n",
    "    add_task(description_text.value)\n",
    "    description_text.value = ''\n",
    "\n",
    "def on_edit_button_clicked(b):\n",
    "    edit_task(edit_task_id.value, new_description.value)\n",
    "    edit_task_id.value = ''\n",
    "    new_description.value = ''\n",
    "\n",
    "def on_delete_button_clicked(b):\n",
    "    delete_task(delete_task_id.value)\n",
    "    delete_task_id.value = ''\n",
    "\n",
    "def on_complete_button_clicked(b):\n",
    "    mark_task_complete(complete_task_id.value)\n",
    "    complete_task_id.value = ''\n",
    "\n",
    "add_button.on_click(on_add_button_clicked)\n",
    "edit_button.on_click(on_edit_button_clicked)\n",
    "delete_button.on_click(on_delete_button_clicked)\n",
    "complete_button.on_click(on_complete_button_clicked)\n",
    "\n",
    "# Display widgets\n",
    "display(description_text, add_button, \n",
    "        edit_task_id, new_description, edit_button, \n",
    "        delete_task_id, delete_button, \n",
    "        complete_task_id, complete_button, \n",
    "        output)\n",
    "\n",
    "# Initial display of tasks\n",
    "display_tasks(tasks)"
   ]
  },
  {
   "cell_type": "code",
   "execution_count": null,
   "id": "776d1fe2",
   "metadata": {},
   "outputs": [],
   "source": []
  }
 ],
 "metadata": {
  "kernelspec": {
   "display_name": "Python 3 (ipykernel)",
   "language": "python",
   "name": "python3"
  },
  "language_info": {
   "codemirror_mode": {
    "name": "ipython",
    "version": 3
   },
   "file_extension": ".py",
   "mimetype": "text/x-python",
   "name": "python",
   "nbconvert_exporter": "python",
   "pygments_lexer": "ipython3",
   "version": "3.11.7"
  }
 },
 "nbformat": 4,
 "nbformat_minor": 5
}
